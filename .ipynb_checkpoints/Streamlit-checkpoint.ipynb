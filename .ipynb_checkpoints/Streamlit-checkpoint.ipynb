{
 "cells": [
  {
   "cell_type": "code",
   "execution_count": 10,
   "id": "1bd846b0",
   "metadata": {},
   "outputs": [],
   "source": [
    "import streamlit as st\n",
    "import numpy as np\n",
    "import time"
   ]
  },
  {
   "cell_type": "code",
   "execution_count": null,
   "id": "fe73fd6b",
   "metadata": {},
   "outputs": [],
   "source": [
    "import os\n",
    "import pandas as pd\n",
    "import torch\n",
    "from transformers import pipeline, AutoTokenizer, AutoModelForSeq2SeqLM\n",
    "\n",
    "model = AutoModelForSeq2SeqLM.from_pretrained('./transformers/summary_ja/')    \n",
    "tokenizer = AutoTokenizer.from_pretrained('sonoisa/t5-base-japanese') "
   ]
  },
  {
   "cell_type": "code",
   "execution_count": null,
   "id": "dc0a5ee3",
   "metadata": {},
   "outputs": [],
   "source": [
    "def make_sum(text):\n",
    "  inputs = tokenizer(text, return_tensors=\"pt\", max_length=512,truncation=True)\n",
    "  outputs = model.generate(inputs[\"input_ids\"], max_length=40, min_length=10,num_beams=4, early_stopping=True)\n",
    "  #print(tokenizer.decode(outputs[0], skip_special_tokens=True)) \n",
    "  return tokenizer.decode(outputs[0], skip_special_tokens=True)"
   ]
  },
  {
   "cell_type": "code",
   "execution_count": 8,
   "id": "5384dea3",
   "metadata": {},
   "outputs": [],
   "source": [
    "with st.form(\"my_form\", clear_on_submit=False):\n",
    "    origin = st.text_input('文章を入力してください。')\n",
    "    submitted = st.form_submit_button(\"要約\")"
   ]
  },
  {
   "cell_type": "code",
   "execution_count": 9,
   "id": "03f5a6ed",
   "metadata": {},
   "outputs": [],
   "source": [
    "if submitted:\n",
    "    with st.spinner(\"思考中...\"):\n",
    "        summary = make_sum(origin)\n",
    "        time.sleep(3)\n",
    "    st.text(summary)\n",
    "    st.text(origin)"
   ]
  },
  {
   "cell_type": "code",
   "execution_count": null,
   "id": "fcd968e6",
   "metadata": {},
   "outputs": [],
   "source": []
  }
 ],
 "metadata": {
  "kernelspec": {
   "display_name": "Python 3 (ipykernel)",
   "language": "python",
   "name": "python3"
  },
  "language_info": {
   "codemirror_mode": {
    "name": "ipython",
    "version": 3
   },
   "file_extension": ".py",
   "mimetype": "text/x-python",
   "name": "python",
   "nbconvert_exporter": "python",
   "pygments_lexer": "ipython3",
   "version": "3.9.5"
  }
 },
 "nbformat": 4,
 "nbformat_minor": 5
}
