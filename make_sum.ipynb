{
 "cells": [
  {
   "cell_type": "code",
   "execution_count": 8,
   "id": "1a093cd2",
   "metadata": {},
   "outputs": [],
   "source": [
    "import os\n",
    "import pandas as pd\n",
    "import torch\n",
    "from transformers import pipeline, AutoTokenizer, AutoModelForSeq2SeqLM\n",
    "\n",
    "model = AutoModelForSeq2SeqLM.from_pretrained('./transformers/summary_ja/')    \n",
    "tokenizer = AutoTokenizer.from_pretrained('sonoisa/t5-base-japanese') "
   ]
  },
  {
   "cell_type": "code",
   "execution_count": 9,
   "id": "53b0afc2",
   "metadata": {},
   "outputs": [],
   "source": [
    "def make_sum(text):\n",
    "  inputs = tokenizer(text, return_tensors=\"pt\", max_length=512,truncation=True)\n",
    "  outputs = model.generate(inputs[\"input_ids\"], max_length=40, min_length=10,num_beams=4, early_stopping=True)\n",
    "  #print(tokenizer.decode(outputs[0], skip_special_tokens=True)) \n",
    "  return tokenizer.decode(outputs[0], skip_special_tokens=True)"
   ]
  },
  {
   "cell_type": "code",
   "execution_count": null,
   "id": "f0c73b8a",
   "metadata": {},
   "outputs": [],
   "source": []
  }
 ],
 "metadata": {
  "kernelspec": {
   "display_name": "Python 3 (ipykernel)",
   "language": "python",
   "name": "python3"
  },
  "language_info": {
   "codemirror_mode": {
    "name": "ipython",
    "version": 3
   },
   "file_extension": ".py",
   "mimetype": "text/x-python",
   "name": "python",
   "nbconvert_exporter": "python",
   "pygments_lexer": "ipython3",
   "version": "3.9.5"
  }
 },
 "nbformat": 4,
 "nbformat_minor": 5
}
